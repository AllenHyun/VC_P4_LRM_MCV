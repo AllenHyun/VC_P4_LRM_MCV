{
 "cells": [
  {
   "cell_type": "code",
   "execution_count": null,
   "id": "9b390550",
   "metadata": {},
   "outputs": [],
   "source": [
    "from paddleocr import PaddleOCR \n",
    "\n",
    "ocr = PaddleOCR(use_angle_cls=True, lang='en')  # need to run only once to download and load model into memory\n",
    "img_path = 'matricula.jpg'\n",
    "result = ocr.predict(img_path)[0]\n",
    "\n",
    "print(result['rec_texts'], result['rec_scores'])"
   ]
  },
  {
   "cell_type": "code",
   "execution_count": 3,
   "id": "bede9876",
   "metadata": {},
   "outputs": [],
   "source": [
    "from transformers import AutoProcessor, AutoModelForImageTextToText\n",
    "import torch\n",
    "Device = \"cpu\"  # or \"cpu\"\n",
    "\n",
    "processor = AutoProcessor.from_pretrained(\"HuggingFaceTB/SmolVLM-Instruct\")\n",
    "model = AutoModelForImageTextToText.from_pretrained(\"HuggingFaceTB/SmolVLM-Instruct\",\n",
    "                                                dtype=torch.bfloat16,\n",
    "                                                _attn_implementation=\"flash_attention_2\" if Device == \"cuda\" else \"eager\").to(Device)"
   ]
  },
  {
   "cell_type": "code",
   "execution_count": 4,
   "id": "76e0dc8e",
   "metadata": {},
   "outputs": [
    {
     "data": {
      "image/png": "[encoded data removed]",
      "text/plain": [
       "<Figure size 640x480 with 1 Axes>"
      ]
     },
     "metadata": {},
     "output_type": "display_data"
    },
    {
     "name": "stdout",
     "output_type": "stream",
     "text": [
      "User:<row_1_col_1><row_1_col_2><row_1_col_3><row_1_col_4>\n",
      "<row_2_col_1><row_2_col_2><row_2_col_3><row_2_col_4>\n",
      "\n",
      "<global-img>Can you give me the text in the license plate of the image?\n",
      "Assistant: 0724HPH\n"
     ]
    }
   ],
   "source": [
    "from PIL import Image\n",
    "from transformers.image_utils import load_image\n",
    "from matplotlib import pyplot as plt\n",
    "\n",
    "# Load images\n",
    "\n",
    "image_1 = Image.open('./content_p4b/matricula.jpg')\n",
    "# Create input messages\n",
    "messages = [\n",
    "    {\n",
    "        \"role\": \"user\",\n",
    "        \"content\": [\n",
    "            {\"type\": \"image\"},\n",
    "            {\"type\": \"text\", \"text\": \"Can you give me the text in the license plate of the image?\"}\n",
    "        ]\n",
    "    },\n",
    "]\n",
    "\n",
    "# Prepare inputs\n",
    "prompt = processor.apply_chat_template(messages, add_generation_prompt=True)\n",
    "inputs = processor(text=prompt, images=[image_1], return_tensors=\"pt\")\n",
    "inputs = inputs.to(Device)\n",
    "\n",
    "generated_ids = model.generate(**inputs, max_new_tokens=10)\n",
    "generated_texts = processor.batch_decode(\n",
    "    generated_ids,\n",
    "    skip_special_tokens=True,\n",
    ")\n",
    "\n",
    "plt.imshow(image_1)\n",
    "plt.axis('off')\n",
    "plt.show()\n",
    "print(generated_texts[0])"
   ]
  }
 ],
 "metadata": {
  "kernelspec": {
   "display_name": "VC_P4_PaddleOCR",
   "language": "python",
   "name": "python3"
  },
  "language_info": {
   "codemirror_mode": {
    "name": "ipython",
    "version": 3
   },
   "file_extension": ".py",
   "mimetype": "text/x-python",
   "name": "python",
   "nbconvert_exporter": "python",
   "pygments_lexer": "ipython3",
   "version": "3.9.23"
  }
 },
 "nbformat": 4,
 "nbformat_minor": 5
}
